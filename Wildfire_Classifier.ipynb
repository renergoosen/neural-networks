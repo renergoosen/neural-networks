{
 "cells": [
  {
   "cell_type": "code",
   "execution_count": 1,
   "metadata": {
    "colab": {
     "base_uri": "https://localhost:8080/"
    },
    "executionInfo": {
     "elapsed": 15332,
     "status": "ok",
     "timestamp": 1739373428325,
     "user": {
      "displayName": "Rene Goosen",
      "userId": "07965523543194323959"
     },
     "user_tz": 0
    },
    "id": "qPW6uMB8isRT",
    "outputId": "f54aeb09-b77c-4945-96ca-c24fcb672433"
   },
   "outputs": [
    {
     "name": "stdout",
     "output_type": "stream",
     "text": [
      "Collecting split-folders\n",
      "  Downloading split_folders-0.5.1-py3-none-any.whl.metadata (6.2 kB)\n",
      "Downloading split_folders-0.5.1-py3-none-any.whl (8.4 kB)\n",
      "Installing collected packages: split-folders\n",
      "Successfully installed split-folders-0.5.1\n"
     ]
    }
   ],
   "source": [
    "!pip install split-folders"
   ]
  },
  {
   "cell_type": "code",
   "execution_count": 2,
   "metadata": {
    "executionInfo": {
     "elapsed": 36351,
     "status": "ok",
     "timestamp": 1739373464671,
     "user": {
      "displayName": "Rene Goosen",
      "userId": "07965523543194323959"
     },
     "user_tz": 0
    },
    "id": "5Ht5p5tXcee5"
   },
   "outputs": [],
   "source": [
    "import numpy as np\n",
    "import matplotlib.pyplot as plt\n",
    "from PIL import Image, ImageDraw, ImageFont\n",
    "import os\n",
    "import copy\n",
    "import torch\n",
    "from PIL import Image\n",
    "from torch.utils.data import Dataset\n",
    "import torchvision\n",
    "import torchvision.transforms as transforms\n",
    "from torch.optim.lr_scheduler import ReduceLROnPlateau\n",
    "import torch.nn as nn\n",
    "from torchvision import utils\n",
    "from torchvision.datasets import ImageFolder\n",
    "import splitfolders\n",
    "import torch.nn.functional as F\n",
    "import pathlib\n",
    "from torch import optim\n",
    "import shutil\n",
    "import csv"
   ]
  },
  {
   "cell_type": "code",
   "execution_count": 4,
   "metadata": {
    "colab": {
     "base_uri": "https://localhost:8080/"
    },
    "executionInfo": {
     "elapsed": 3644,
     "status": "ok",
     "timestamp": 1739373468313,
     "user": {
      "displayName": "Rene Goosen",
      "userId": "07965523543194323959"
     },
     "user_tz": 0
    },
    "id": "kqiYucE6nwi9",
    "outputId": "573072ba-b175-4b08-fea8-57325274677e"
   },
   "outputs": [
    {
     "name": "stdout",
     "output_type": "stream",
     "text": [
      "Saved: /content/dataset/images/green_0_brown_100.png\n",
      "Saved: /content/dataset/images/green_1_brown_99.png\n",
      "Saved: /content/dataset/images/green_2_brown_98.png\n",
      "Saved: /content/dataset/images/green_3_brown_97.png\n",
      "Saved: /content/dataset/images/green_4_brown_96.png\n",
      "Saved: /content/dataset/images/green_5_brown_95.png\n",
      "Saved: /content/dataset/images/green_6_brown_94.png\n",
      "Saved: /content/dataset/images/green_7_brown_93.png\n",
      "Saved: /content/dataset/images/green_8_brown_92.png\n",
      "Saved: /content/dataset/images/green_9_brown_91.png\n",
      "Saved: /content/dataset/images/green_10_brown_90.png\n",
      "Saved: /content/dataset/images/green_11_brown_89.png\n",
      "Saved: /content/dataset/images/green_12_brown_88.png\n",
      "Saved: /content/dataset/images/green_13_brown_87.png\n",
      "Saved: /content/dataset/images/green_14_brown_86.png\n",
      "Saved: /content/dataset/images/green_15_brown_85.png\n",
      "Saved: /content/dataset/images/green_16_brown_84.png\n",
      "Saved: /content/dataset/images/green_17_brown_83.png\n",
      "Saved: /content/dataset/images/green_18_brown_82.png\n",
      "Saved: /content/dataset/images/green_19_brown_81.png\n",
      "Saved: /content/dataset/images/green_20_brown_80.png\n",
      "Saved: /content/dataset/images/green_21_brown_79.png\n",
      "Saved: /content/dataset/images/green_22_brown_78.png\n",
      "Saved: /content/dataset/images/green_23_brown_77.png\n",
      "Saved: /content/dataset/images/green_24_brown_76.png\n",
      "Saved: /content/dataset/images/green_25_brown_75.png\n",
      "Saved: /content/dataset/images/green_26_brown_74.png\n",
      "Saved: /content/dataset/images/green_27_brown_73.png\n",
      "Saved: /content/dataset/images/green_28_brown_72.png\n",
      "Saved: /content/dataset/images/green_29_brown_71.png\n",
      "Saved: /content/dataset/images/green_30_brown_70.png\n",
      "Saved: /content/dataset/images/green_31_brown_69.png\n",
      "Saved: /content/dataset/images/green_32_brown_68.png\n",
      "Saved: /content/dataset/images/green_33_brown_67.png\n",
      "Saved: /content/dataset/images/green_34_brown_66.png\n",
      "Saved: /content/dataset/images/green_35_brown_65.png\n",
      "Saved: /content/dataset/images/green_36_brown_64.png\n",
      "Saved: /content/dataset/images/green_37_brown_63.png\n",
      "Saved: /content/dataset/images/green_38_brown_62.png\n",
      "Saved: /content/dataset/images/green_39_brown_61.png\n",
      "Saved: /content/dataset/images/green_40_brown_60.png\n",
      "Saved: /content/dataset/images/green_41_brown_59.png\n",
      "Saved: /content/dataset/images/green_42_brown_58.png\n",
      "Saved: /content/dataset/images/green_43_brown_57.png\n",
      "Saved: /content/dataset/images/green_44_brown_56.png\n",
      "Saved: /content/dataset/images/green_45_brown_55.png\n",
      "Saved: /content/dataset/images/green_46_brown_54.png\n",
      "Saved: /content/dataset/images/green_47_brown_53.png\n",
      "Saved: /content/dataset/images/green_48_brown_52.png\n",
      "Saved: /content/dataset/images/green_49_brown_51.png\n",
      "Saved: /content/dataset/images/green_50_brown_50.png\n",
      "Saved: /content/dataset/images/green_51_brown_49.png\n",
      "Saved: /content/dataset/images/green_52_brown_48.png\n",
      "Saved: /content/dataset/images/green_53_brown_47.png\n",
      "Saved: /content/dataset/images/green_54_brown_46.png\n",
      "Saved: /content/dataset/images/green_55_brown_45.png\n",
      "Saved: /content/dataset/images/green_56_brown_44.png\n",
      "Saved: /content/dataset/images/green_57_brown_43.png\n",
      "Saved: /content/dataset/images/green_58_brown_42.png\n",
      "Saved: /content/dataset/images/green_59_brown_41.png\n",
      "Saved: /content/dataset/images/green_60_brown_40.png\n",
      "Saved: /content/dataset/images/green_61_brown_39.png\n",
      "Saved: /content/dataset/images/green_62_brown_38.png\n",
      "Saved: /content/dataset/images/green_63_brown_37.png\n",
      "Saved: /content/dataset/images/green_64_brown_36.png\n",
      "Saved: /content/dataset/images/green_65_brown_35.png\n",
      "Saved: /content/dataset/images/green_66_brown_34.png\n",
      "Saved: /content/dataset/images/green_67_brown_33.png\n",
      "Saved: /content/dataset/images/green_68_brown_32.png\n",
      "Saved: /content/dataset/images/green_69_brown_31.png\n",
      "Saved: /content/dataset/images/green_70_brown_30.png\n",
      "Saved: /content/dataset/images/green_71_brown_29.png\n",
      "Saved: /content/dataset/images/green_72_brown_28.png\n",
      "Saved: /content/dataset/images/green_73_brown_27.png\n",
      "Saved: /content/dataset/images/green_74_brown_26.png\n",
      "Saved: /content/dataset/images/green_75_brown_25.png\n",
      "Saved: /content/dataset/images/green_76_brown_24.png\n",
      "Saved: /content/dataset/images/green_77_brown_23.png\n",
      "Saved: /content/dataset/images/green_78_brown_22.png\n",
      "Saved: /content/dataset/images/green_79_brown_21.png\n",
      "Saved: /content/dataset/images/green_80_brown_20.png\n",
      "Saved: /content/dataset/images/green_81_brown_19.png\n",
      "Saved: /content/dataset/images/green_82_brown_18.png\n",
      "Saved: /content/dataset/images/green_83_brown_17.png\n",
      "Saved: /content/dataset/images/green_84_brown_16.png\n",
      "Saved: /content/dataset/images/green_85_brown_15.png\n",
      "Saved: /content/dataset/images/green_86_brown_14.png\n",
      "Saved: /content/dataset/images/green_87_brown_13.png\n",
      "Saved: /content/dataset/images/green_88_brown_12.png\n",
      "Saved: /content/dataset/images/green_89_brown_11.png\n",
      "Saved: /content/dataset/images/green_90_brown_10.png\n",
      "Saved: /content/dataset/images/green_91_brown_9.png\n",
      "Saved: /content/dataset/images/green_92_brown_8.png\n",
      "Saved: /content/dataset/images/green_93_brown_7.png\n",
      "Saved: /content/dataset/images/green_94_brown_6.png\n",
      "Saved: /content/dataset/images/green_95_brown_5.png\n",
      "Saved: /content/dataset/images/green_96_brown_4.png\n",
      "Saved: /content/dataset/images/green_97_brown_3.png\n",
      "Saved: /content/dataset/images/green_98_brown_2.png\n",
      "Saved: /content/dataset/images/green_99_brown_1.png\n",
      "Image generation complete!\n"
     ]
    }
   ],
   "source": [
    "# Define directories\n",
    "output_dir = \"/content/dataset/images\"  # Structured dataset folder\n",
    "os.makedirs(output_dir, exist_ok=True)\n",
    "\n",
    "# Define different percentages of green\n",
    "percentages = list(range(0, 100, 1))  # 0% to 100% in steps of 10%\n",
    "\n",
    "# Image size\n",
    "width, height = 500, 500\n",
    "\n",
    "# Store labels for CSV\n",
    "labels = []\n",
    "\n",
    "for percent_green in percentages:\n",
    "    percent_brown = 100 - percent_green\n",
    "\n",
    "    # Determine the green region size\n",
    "    green_height = int((percent_green / 100) * height)\n",
    "\n",
    "    # Create an empty image array\n",
    "    pixels = np.zeros((height, width, 3), dtype=np.uint8)\n",
    "\n",
    "    # Clustered green area on top, brown area on bottom\n",
    "    pixels[:green_height, :] = [34, 139, 34]  # Green (#228B22)\n",
    "    pixels[green_height:, :] = [139, 69, 19]  # Brown (#8B4513)\n",
    "\n",
    "    # Convert to image\n",
    "    img = Image.fromarray(pixels)\n",
    "\n",
    "    # Add text label on image\n",
    "    draw = ImageDraw.Draw(img)\n",
    "    try:\n",
    "        font = ImageFont.truetype(\"arial.ttf\", 30)\n",
    "    except:\n",
    "        font = ImageFont.load_default()\n",
    "\n",
    "    label_text = f\"Green: {percent_green}%, Brown: {percent_brown}%\"\n",
    "    draw.text((10, 10), label_text, fill=\"white\", font=font)\n",
    "\n",
    "    # Save the image with a structured filename\n",
    "    filename = f\"green_{percent_green}_brown_{percent_brown}.png\"\n",
    "    filepath = os.path.join(output_dir, filename)\n",
    "    img.save(filepath)\n",
    "\n",
    "    # Append label data for CSV\n",
    "    labels.append([filename, percent_green])\n",
    "\n",
    "    print(f\"Saved: {filepath}\")\n",
    "\n",
    "print(\"Image generation complete!\")\n"
   ]
  },
  {
   "cell_type": "code",
   "execution_count": 5,
   "metadata": {
    "colab": {
     "base_uri": "https://localhost:8080/"
    },
    "executionInfo": {
     "elapsed": 7,
     "status": "ok",
     "timestamp": 1739373468314,
     "user": {
      "displayName": "Rene Goosen",
      "userId": "07965523543194323959"
     },
     "user_tz": 0
    },
    "id": "T8LIiCQsn7ty",
    "outputId": "e6c4762b-4d1c-4ef4-b384-c0681a018c2b"
   },
   "outputs": [
    {
     "name": "stdout",
     "output_type": "stream",
     "text": [
      "Labels CSV saved at: /content/dataset/labels.csv\n"
     ]
    }
   ],
   "source": [
    "# Step 2: Create Labels CSV File\n",
    "csv_path = \"/content/dataset/labels.csv\"\n",
    "with open(csv_path, mode=\"w\", newline=\"\") as file:\n",
    "    writer = csv.writer(file)\n",
    "    writer.writerow([\"filename\", \"green_percentage\"])  # Header\n",
    "    writer.writerows(labels)\n",
    "\n",
    "print(f\"Labels CSV saved at: {csv_path}\")\n"
   ]
  },
  {
   "cell_type": "code",
   "execution_count": 6,
   "metadata": {
    "colab": {
     "base_uri": "https://localhost:8080/"
    },
    "executionInfo": {
     "elapsed": 4,
     "status": "ok",
     "timestamp": 1739373468314,
     "user": {
      "displayName": "Rene Goosen",
      "userId": "07965523543194323959"
     },
     "user_tz": 0
    },
    "id": "HRCw_6ikoChR",
    "outputId": "fa0f93f9-c835-4ff6-d8eb-8acb432e04c4"
   },
   "outputs": [
    {
     "name": "stderr",
     "output_type": "stream",
     "text": [
      "Copying files: 100 files [00:00, 4014.57 files/s]"
     ]
    },
    {
     "name": "stdout",
     "output_type": "stream",
     "text": [
      "Data successfully split into training and validation sets!\n"
     ]
    },
    {
     "name": "stderr",
     "output_type": "stream",
     "text": [
      "\n"
     ]
    }
   ],
   "source": [
    "# Step 3: Split Dataset into Train and Validation Sets\n",
    "\n",
    "splitfolders.ratio(\n",
    "    \"/content/dataset\",  # Input folder (must contain subfolders)\n",
    "    output=\"/content/area\",  # Output directory\n",
    "    seed=41,\n",
    "    ratio=(0.8, 0.2),  # 80% Train, 20% Validation\n",
    "    group_prefix=None\n",
    ")\n",
    "\n",
    "print(\"Data successfully split into training and validation sets!\")\n"
   ]
  },
  {
   "cell_type": "code",
   "execution_count": 7,
   "metadata": {
    "executionInfo": {
     "elapsed": 1067,
     "status": "ok",
     "timestamp": 1739373469379,
     "user": {
      "displayName": "Rene Goosen",
      "userId": "07965523543194323959"
     },
     "user_tz": 0
    },
    "id": "Nc5rooq0pw0H"
   },
   "outputs": [],
   "source": [
    "import pandas as pd"
   ]
  },
  {
   "cell_type": "code",
   "execution_count": 8,
   "metadata": {
    "executionInfo": {
     "elapsed": 3,
     "status": "ok",
     "timestamp": 1739373469379,
     "user": {
      "displayName": "Rene Goosen",
      "userId": "07965523543194323959"
     },
     "user_tz": 0
    },
    "id": "OuWSgsR4pyYT"
   },
   "outputs": [],
   "source": [
    "# Define risk classification function\n",
    "def classify_risk(brown_percent):\n",
    "    if brown_percent <= 33:\n",
    "        return \"🟢\"\n",
    "    elif 34 <= brown_percent <= 66:\n",
    "        return \"🟠\"\n",
    "    else:\n",
    "        return \"🔴\"\n",
    "\n",
    "# Create risk classification table\n",
    "risk_data = []\n",
    "\n",
    "for percent_green in range(0, 100, 1):  # 0% to 100% in steps of 10%\n",
    "    percent_brown = 100 - percent_green\n",
    "    risk_label = classify_risk(percent_brown)\n",
    "    risk_data.append([percent_green, percent_brown, risk_label])\n",
    "\n",
    "# Convert to Pandas DataFrame\n",
    "df = pd.DataFrame(risk_data, columns=[\"Green %\", \"Brown %\", \"Risk Level\"])\n",
    "\n",
    "# Save to CSV\n",
    "csv_path = \"/content/dataset/risk_labels.csv\"\n",
    "df.to_csv(csv_path, index=False)\n"
   ]
  },
  {
   "cell_type": "code",
   "execution_count": 9,
   "metadata": {
    "colab": {
     "base_uri": "https://localhost:8080/"
    },
    "executionInfo": {
     "elapsed": 2,
     "status": "ok",
     "timestamp": 1739373469379,
     "user": {
      "displayName": "Rene Goosen",
      "userId": "07965523543194323959"
     },
     "user_tz": 0
    },
    "id": "79tmka5Tp0-y",
    "outputId": "63769eb1-9ebc-494e-b17d-accc0fc09ef4"
   },
   "outputs": [
    {
     "name": "stdout",
     "output_type": "stream",
     "text": [
      "✅ Risk classification table:\n",
      "    Green %  Brown %         Risk Level\n",
      "0         0      100  High Risk (Red 🔴)\n",
      "1         1       99  High Risk (Red 🔴)\n",
      "2         2       98  High Risk (Red 🔴)\n",
      "3         3       97  High Risk (Red 🔴)\n",
      "4         4       96  High Risk (Red 🔴)\n",
      "..      ...      ...                ...\n",
      "95       95        5     Safe (Green 🟢)\n",
      "96       96        4     Safe (Green 🟢)\n",
      "97       97        3     Safe (Green 🟢)\n",
      "98       98        2     Safe (Green 🟢)\n",
      "99       99        1     Safe (Green 🟢)\n",
      "\n",
      "[100 rows x 3 columns]\n"
     ]
    }
   ],
   "source": [
    "# Display the risk table\n",
    "print(\"Risk classification table:\")\n",
    "print(df)"
   ]
  },
  {
   "cell_type": "code",
   "execution_count": 10,
   "metadata": {
    "colab": {
     "base_uri": "https://localhost:8080/",
     "height": 826
    },
    "executionInfo": {
     "elapsed": 1559,
     "status": "ok",
     "timestamp": 1739373470937,
     "user": {
      "displayName": "Rene Goosen",
      "userId": "07965523543194323959"
     },
     "user_tz": 0
    },
    "id": "qudnYEakqtlv",
    "outputId": "2b56bbf1-7415-4d95-9a5b-d84df59436d1"
   },
   "outputs": [
    {
     "name": "stderr",
     "output_type": "stream",
     "text": [
      "<ipython-input-10-1e61fac40415>:27: UserWarning: Glyph 128308 (\\N{LARGE RED CIRCLE}) missing from font(s) DejaVu Sans.\n",
      "  plt.tight_layout()\n",
      "<ipython-input-10-1e61fac40415>:27: UserWarning: Glyph 128994 (\\N{LARGE GREEN CIRCLE}) missing from font(s) DejaVu Sans.\n",
      "  plt.tight_layout()\n",
      "<ipython-input-10-1e61fac40415>:27: UserWarning: Glyph 128992 (\\N{LARGE ORANGE CIRCLE}) missing from font(s) DejaVu Sans.\n",
      "  plt.tight_layout()\n",
      "/usr/local/lib/python3.11/dist-packages/IPython/core/pylabtools.py:151: UserWarning: Glyph 128308 (\\N{LARGE RED CIRCLE}) missing from font(s) DejaVu Sans.\n",
      "  fig.canvas.print_figure(bytes_io, **kw)\n",
      "/usr/local/lib/python3.11/dist-packages/IPython/core/pylabtools.py:151: UserWarning: Glyph 128994 (\\N{LARGE GREEN CIRCLE}) missing from font(s) DejaVu Sans.\n",
      "  fig.canvas.print_figure(bytes_io, **kw)\n",
      "/usr/local/lib/python3.11/dist-packages/IPython/core/pylabtools.py:151: UserWarning: Glyph 128992 (\\N{LARGE ORANGE CIRCLE}) missing from font(s) DejaVu Sans.\n",
      "  fig.canvas.print_figure(bytes_io, **kw)\n"
     ]
    },
    {
     "data": {
      "image/png": "[encoded data removed]",
      "text/plain": [
       "<Figure size 1200x800 with 6 Axes>"
      ]
     },
     "metadata": {},
     "output_type": "display_data"
    }
   ],
   "source": [
    "# Load the risk labels CSV\n",
    "csv_path = \"/content/dataset/risk_labels.csv\"\n",
    "df = pd.read_csv(csv_path)\n",
    "\n",
    "# Define the image directory\n",
    "image_dir = \"/content/dataset/images\"\n",
    "\n",
    "# Select a few images to display\n",
    "sample_images = df.sample(6)  # Randomly select 6 images\n",
    "\n",
    "# Plot images with their risk labels\n",
    "fig, axes = plt.subplots(2, 3, figsize=(12, 8))  # 2 rows, 3 columns\n",
    "\n",
    "for i, (idx, row) in enumerate(sample_images.iterrows()):\n",
    "    filename = f\"green_{row['Green %']}_brown_{row['Brown %']}.png\"\n",
    "    img_path = os.path.join(image_dir, filename)\n",
    "\n",
    "    # Load image\n",
    "    img = Image.open(img_path)\n",
    "    # Show image\n",
    "    ax = axes[i // 3, i % 3]  # Get subplot position\n",
    "    ax.imshow(img)\n",
    "    ax.set_title(f\"{row['Risk Level']}\", fontsize=14)\n",
    "    ax.axis(\"off\")  # Hide axes\n",
    "\n",
    "# Show the plot\n",
    "plt.tight_layout()\n",
    "plt.show()"
   ]
  },
  {
   "cell_type": "markdown",
   "metadata": {
    "id": "VmcEqLR2sKiQ"
   },
   "source": [
    "## **DNN to help classify a given area into risk**"
   ]
  },
  {
   "cell_type": "code",
   "execution_count": 11,
   "metadata": {
    "colab": {
     "base_uri": "https://localhost:8080/"
    },
    "executionInfo": {
     "elapsed": 4,
     "status": "ok",
     "timestamp": 1739373470938,
     "user": {
      "displayName": "Rene Goosen",
      "userId": "07965523543194323959"
     },
     "user_tz": 0
    },
    "id": "eNMZOeZ_rqIb",
    "outputId": "293abe5d-d210-46ab-dd9d-c7e5df1bf3e7"
   },
   "outputs": [
    {
     "name": "stderr",
     "output_type": "stream",
     "text": [
      "<ipython-input-11-cde5983a144f>:4: FutureWarning: Downcasting behavior in `replace` is deprecated and will be removed in a future version. To retain the old behavior, explicitly call `result.infer_objects(copy=False)`. To opt-in to the future behavior, set `pd.set_option('future.no_silent_downcasting', True)`\n",
      "  df['Risk Level'] = df['Risk Level'].replace('High Risk (Red 🔴)', 2)\n"
     ]
    }
   ],
   "source": [
    "# Change last column from strings to integers\n",
    "df['Risk Level'] = df['Risk Level'].replace('🟢', 0)\n",
    "df['Risk Level'] = df['Risk Level'].replace('🟠', 1)\n",
    "df['Risk Level'] = df['Risk Level'].replace('🔴', 2)\n",
    "\n",
    "# X is all columns except the species\n",
    "X = df.drop('Risk Level', axis=1).values\n",
    "y = df['Risk Level'].values"
   ]
  },
  {
   "cell_type": "code",
   "execution_count": 12,
   "metadata": {
    "executionInfo": {
     "elapsed": 1828,
     "status": "ok",
     "timestamp": 1739373472763,
     "user": {
      "displayName": "Rene Goosen",
      "userId": "07965523543194323959"
     },
     "user_tz": 0
    },
    "id": "Ie8LnV9TwxlJ"
   },
   "outputs": [],
   "source": [
    "# Train test split\n",
    "from sklearn.model_selection import train_test_split\n",
    "X_train, X_test, y_train, y_test = train_test_split(X, y, test_size = 0.2, random_state=41)"
   ]
  },
  {
   "cell_type": "code",
   "execution_count": 13,
   "metadata": {
    "colab": {
     "base_uri": "https://localhost:8080/"
    },
    "executionInfo": {
     "elapsed": 3,
     "status": "ok",
     "timestamp": 1739373472763,
     "user": {
      "displayName": "Rene Goosen",
      "userId": "07965523543194323959"
     },
     "user_tz": 0
    },
    "id": "pWPZwP4qw262",
    "outputId": "3efc11bb-5b05-49e0-f5a4-993a15f859c7"
   },
   "outputs": [
    {
     "data": {
      "text/plain": [
       "tensor([[86., 14.],\n",
       "        [48., 52.],\n",
       "        [49., 51.],\n",
       "        [99.,  1.],\n",
       "        [41., 59.],\n",
       "        [18., 82.],\n",
       "        [87., 13.],\n",
       "        [40., 60.],\n",
       "        [91.,  9.],\n",
       "        [67., 33.],\n",
       "        [ 7., 93.],\n",
       "        [63., 37.],\n",
       "        [11., 89.],\n",
       "        [76., 24.],\n",
       "        [83., 17.],\n",
       "        [29., 71.],\n",
       "        [90., 10.],\n",
       "        [66., 34.],\n",
       "        [15., 85.],\n",
       "        [82., 18.],\n",
       "        [81., 19.],\n",
       "        [62., 38.],\n",
       "        [96.,  4.],\n",
       "        [ 9., 91.],\n",
       "        [14., 86.],\n",
       "        [95.,  5.],\n",
       "        [69., 31.],\n",
       "        [38., 62.],\n",
       "        [10., 90.],\n",
       "        [ 8., 92.],\n",
       "        [47., 53.],\n",
       "        [77., 23.],\n",
       "        [21., 79.],\n",
       "        [31., 69.],\n",
       "        [30., 70.],\n",
       "        [43., 57.],\n",
       "        [36., 64.],\n",
       "        [45., 55.],\n",
       "        [46., 54.],\n",
       "        [73., 27.],\n",
       "        [22., 78.],\n",
       "        [44., 56.],\n",
       "        [74., 26.],\n",
       "        [39., 61.],\n",
       "        [ 5., 95.],\n",
       "        [20., 80.],\n",
       "        [71., 29.],\n",
       "        [88., 12.],\n",
       "        [97.,  3.],\n",
       "        [ 1., 99.],\n",
       "        [59., 41.],\n",
       "        [ 4., 96.],\n",
       "        [58., 42.],\n",
       "        [34., 66.],\n",
       "        [92.,  8.],\n",
       "        [13., 87.],\n",
       "        [19., 81.],\n",
       "        [53., 47.],\n",
       "        [28., 72.],\n",
       "        [17., 83.],\n",
       "        [55., 45.],\n",
       "        [52., 48.],\n",
       "        [75., 25.],\n",
       "        [51., 49.],\n",
       "        [61., 39.],\n",
       "        [84., 16.],\n",
       "        [70., 30.],\n",
       "        [50., 50.],\n",
       "        [98.,  2.],\n",
       "        [ 3., 97.],\n",
       "        [56., 44.],\n",
       "        [26., 74.],\n",
       "        [85., 15.],\n",
       "        [23., 77.],\n",
       "        [89., 11.],\n",
       "        [65., 35.],\n",
       "        [80., 20.],\n",
       "        [12., 88.],\n",
       "        [35., 65.],\n",
       "        [64., 36.]])"
      ]
     },
     "execution_count": 13,
     "metadata": {},
     "output_type": "execute_result"
    }
   ],
   "source": [
    "# Convert to tensors\n",
    "# Need to calculate gradients so set to float tensor\n",
    "X_train = torch.FloatTensor(X_train)\n",
    "X_test = torch.FloatTensor(X_test)"
   ]
  },
  {
   "cell_type": "markdown",
   "metadata": {
    "id": "7yAOGid3sJtq"
   },
   "source": []
  },
  {
   "cell_type": "code",
   "execution_count": 14,
   "metadata": {
    "executionInfo": {
     "elapsed": 2,
     "status": "ok",
     "timestamp": 1739373472763,
     "user": {
      "displayName": "Rene Goosen",
      "userId": "07965523543194323959"
     },
     "user_tz": 0
    },
    "id": "ZVd4oKygyDLz"
   },
   "outputs": [],
   "source": [
    "# Convert labels to tensor\n",
    "y_train = torch.LongTensor(y_train)\n",
    "y_test = torch.LongTensor(y_test)"
   ]
  },
  {
   "cell_type": "code",
   "execution_count": 15,
   "metadata": {
    "colab": {
     "base_uri": "https://localhost:8080/"
    },
    "executionInfo": {
     "elapsed": 263,
     "status": "ok",
     "timestamp": 1739373473024,
     "user": {
      "displayName": "Rene Goosen",
      "userId": "07965523543194323959"
     },
     "user_tz": 0
    },
    "id": "F4aqNMXpyDbS",
    "outputId": "2179f2ea-6740-4ecb-be8d-760fd8e32575"
   },
   "outputs": [
    {
     "data": {
      "text/plain": [
       "[tensor([[61., 39.],\n",
       "         [99.,  1.],\n",
       "         [43., 57.],\n",
       "         [ 5., 95.],\n",
       "         [56., 44.],\n",
       "         [92.,  8.],\n",
       "         [40., 60.],\n",
       "         [77., 23.],\n",
       "         [58., 42.],\n",
       "         [65., 35.],\n",
       "         [26., 74.],\n",
       "         [41., 59.],\n",
       "         [91.,  9.],\n",
       "         [51., 49.],\n",
       "         [48., 52.]]),\n",
       " tensor([1, 0, 1, 2, 1, 0, 1, 0, 1, 1, 2, 1, 0, 1, 1])]"
      ]
     },
     "execution_count": 15,
     "metadata": {},
     "output_type": "execute_result"
    }
   ],
   "source": [
    "from torch.utils.data import TensorDataset, DataLoader\n",
    "train_ds = TensorDataset(X_train, y_train)\n",
    "batch_size = 15\n",
    "train_dl = DataLoader(train_ds, batch_size=batch_size, shuffle=True)\n",
    "next(iter(train_dl))"
   ]
  },
  {
   "cell_type": "code",
   "execution_count": 16,
   "metadata": {
    "colab": {
     "base_uri": "https://localhost:8080/",
     "height": 985
    },
    "executionInfo": {
     "elapsed": 17432,
     "status": "ok",
     "timestamp": 1739373490453,
     "user": {
      "displayName": "Rene Goosen",
      "userId": "07965523543194323959"
     },
     "user_tz": 0
    },
    "id": "ShFJNiZnyDhZ",
    "outputId": "e10584f7-0ff5-4f66-81f4-62bc4cd64050"
   },
   "outputs": [
    {
     "name": "stdout",
     "output_type": "stream",
     "text": [
      "0.4896238446235657\n",
      "0.06561410427093506\n",
      "0.0986829325556755\n",
      "0.00791780836880207\n",
      "0.05327960103750229\n",
      "0.0018059222493320704\n",
      "0.0011741177877411246\n",
      "0.017034105956554413\n",
      "0.003978104796260595\n",
      "0.004799762275069952\n"
     ]
    },
    {
     "data": {
      "image/png": "[encoded data removed]",
      "text/plain": [
       "<Figure size 640x480 with 1 Axes>"
      ]
     },
     "metadata": {},
     "output_type": "display_data"
    },
    {
     "name": "stdout",
     "output_type": "stream",
     "text": [
      "tensor([[ -4.7741,   3.3346,  -5.3240],\n",
      "        [ 11.8405,  -4.1667, -18.5789],\n",
      "        [ -4.6269,   2.7270,  -1.4274],\n",
      "        [ -6.3490,   1.5915,  14.2844],\n",
      "        [  8.4661,  -2.6228, -16.0526],\n",
      "        [ -4.4797,   2.1194,   2.4692],\n",
      "        [ -4.6694,   1.5325,   7.6334],\n",
      "        [ -6.8524,   1.7195,  15.4585],\n",
      "        [ -4.5092,   2.2409,   1.6898],\n",
      "        [ 11.6805,  -4.1017, -18.3992],\n",
      "        [  2.2822,   0.6441, -14.5995],\n",
      "        [ -3.4381,   3.7199, -13.6464],\n",
      "        [ -4.1004,   3.9670, -12.7447],\n",
      "        [ -6.6734,   1.6741,  15.0402],\n",
      "        [ -4.4694,   4.0349, -11.7353],\n",
      "        [  4.9710,  -0.7967, -15.0844],\n",
      "        [  8.2365,  -2.5172, -15.8850],\n",
      "        [ -5.4105,   1.4632,  11.2774],\n",
      "        [ -4.5767,   1.5412,   7.1779],\n",
      "        [ -4.3914,   1.5585,   6.2669]], grad_fn=<AddmmBackward0>)\n"
     ]
    }
   ],
   "source": [
    "class DNN(nn.Module):\n",
    "  def __init__(self):\n",
    "    super().__init__()\n",
    "    self.linear1 = nn.Linear(2, 8)\n",
    "    self.act1 = nn.ReLU()\n",
    "    self.linear2 = nn.Linear(8, 6)\n",
    "    self.act2 = nn.ReLU()\n",
    "    self.linear3 = nn.Linear(6, 4)\n",
    "    self.act3 = nn.ReLU()\n",
    "    self.linear4 = nn.Linear(4, 3)\n",
    "\n",
    "  def forward(self, x):\n",
    "    x = self.linear1(x)\n",
    "    x = self.act1(x)\n",
    "    x = self.linear2(x)\n",
    "    x = self.act2(x)\n",
    "    x = self.linear3(x)\n",
    "    x = self.act3(x)\n",
    "    x = self.linear4(x)\n",
    "    return x\n",
    "\n",
    "lr = 0.001\n",
    "model = DNN()\n",
    "mse = torch.nn.CrossEntropyLoss()\n",
    "opt_SGD = torch.optim.SGD(model.parameters(), lr = lr)\n",
    "losses = []\n",
    "epochs_lst = []\n",
    "# Training step\n",
    "def fit(num_epochs, model, loss_fn, opt, train_dl):\n",
    "  for epoch in range(num_epochs):\n",
    "    for xb, yb in train_dl:\n",
    "      preds = model(xb)\n",
    "      loss = loss_fn(preds, yb)\n",
    "      loss.backward()\n",
    "      opt.step()\n",
    "      opt.zero_grad()\n",
    "    # Logging every 50 epochs\n",
    "    if epoch % 50 == 0:\n",
    "        avg_loss = epoch_loss / len(train_dl)\n",
    "        print(f\"Epoch {epoch}: Loss = {avg_loss:.4f}\")\n",
    "        losses.append(avg_loss)\n",
    "        epochs_lst.append(epoch)\n",
    "\n",
    "\n",
    "def drawGraph(losses, epoches_lst):\n",
    "  plt.plot(epochs_lst, losses)\n",
    "  plt.xlabel(\"Epochs\")\n",
    "  plt.ylabel(\"Loss\")\n",
    "  plt.show()\n",
    "\n",
    "\n",
    "fit(1000, model, mse, opt_SGD, train_dl)\n",
    "drawGraph(losses, epochs_lst)\n",
    "preds = model(X_test)\n",
    "print(preds)"
   ]
  },
  {
   "cell_type": "code",
   "execution_count": 18,
   "metadata": {
    "colab": {
     "base_uri": "https://localhost:8080/"
    },
    "executionInfo": {
     "elapsed": 223,
     "status": "ok",
     "timestamp": 1739373628397,
     "user": {
      "displayName": "Rene Goosen",
      "userId": "07965523543194323959"
     },
     "user_tz": 0
    },
    "id": "2oHdkQRWyDlc",
    "outputId": "f0ff479a-88c6-4b1e-eace-4374207dfcf1"
   },
   "outputs": [
    {
     "name": "stdout",
     "output_type": "stream",
     "text": [
      "Model Accuracy: 95.00%\n",
      "    Green %  Brown %  Actual Label  Predicted Label\n",
      "0      42.0     58.0             1                1\n",
      "17     16.0     84.0             2                2\n",
      "15     72.0     28.0             0                0\n",
      "1      94.0      6.0             0                0\n",
      "8      33.0     67.0             2                1\n",
      "5      32.0     68.0             2                2\n",
      "11     60.0     40.0             1                1\n",
      "3       6.0     94.0             2                2\n",
      "18     25.0     75.0             2                2\n",
      "16     78.0     22.0             0                0\n",
      "13      2.0     98.0             2                2\n",
      "2      37.0     63.0             1                1\n",
      "9      93.0      7.0             0                0\n",
      "19     27.0     73.0             2                2\n",
      "4      79.0     21.0             0                0\n",
      "12     57.0     43.0             1                1\n",
      "7       0.0    100.0             2                2\n",
      "10     68.0     32.0             0                0\n",
      "14     54.0     46.0             1                1\n",
      "6      24.0     76.0             2                2\n"
     ]
    }
   ],
   "source": [
    "from sklearn.metrics import accuracy_score\n",
    "import pandas as pd\n",
    "\n",
    "# Put model in evaluation mode (disables dropout, batch norm updates)\n",
    "model.eval()\n",
    "\n",
    "test_preds = model(X_test)  # Get raw logits\n",
    "predicted_labels = torch.argmax(test_preds, axis=1)  # Convert logits to class indices\n",
    "\n",
    "# Convert tensors to numpy arrays for accuracy calculation\n",
    "actual_labels = y_test.numpy()\n",
    "predicted_labels = predicted_labels.numpy()\n",
    "\n",
    "# Calculate Accuracy\n",
    "accuracy = accuracy_score(actual_labels, predicted_labels) * 100\n",
    "print(f\"Model Accuracy: {accuracy:.2f}%\")\n",
    "\n",
    "# Create a DataFrame to compare Actual vs. Predicted Labels\n",
    "results_df = pd.DataFrame({\n",
    "    \"Green %\": X_test[:, 0].numpy(),  # Assuming column 0 is Green %\n",
    "    \"Brown %\": X_test[:, 1].numpy(),\n",
    "    \"Actual Label\": actual_labels,\n",
    "    \"Predicted Label\": predicted_labels\n",
    "})\n",
    "\n",
    "# Print 20 random rows from the results DataFrame\n",
    "print(results_df.sample(20, random_state=42))  # Random selection for consistency"
   ]
  },
  {
   "cell_type": "markdown",
   "metadata": {
    "id": "ia10ozJfkK-B"
   },
   "source": [
    "## **Wider Data Set DNN**"
   ]
  },
  {
   "cell_type": "code",
   "execution_count": 19,
   "metadata": {
    "executionInfo": {
     "elapsed": 195,
     "status": "ok",
     "timestamp": 1739373651593,
     "user": {
      "displayName": "Rene Goosen",
      "userId": "07965523543194323959"
     },
     "user_tz": 0
    },
    "id": "gZbJKcet7Djm"
   },
   "outputs": [],
   "source": [
    "import pandas as pd\n",
    "import numpy as np"
   ]
  },
  {
   "cell_type": "code",
   "execution_count": 20,
   "metadata": {
    "executionInfo": {
     "elapsed": 189,
     "status": "ok",
     "timestamp": 1739373652549,
     "user": {
      "displayName": "Rene Goosen",
      "userId": "07965523543194323959"
     },
     "user_tz": 0
    },
    "id": "117W5gmFicec"
   },
   "outputs": [],
   "source": [
    "output_dir = \"/content/dataset/large_dataset\"  # Structured dataset folder\n",
    "os.makedirs(output_dir, exist_ok=True)"
   ]
  },
  {
   "cell_type": "code",
   "execution_count": 21,
   "metadata": {
    "colab": {
     "base_uri": "https://localhost:8080/"
    },
    "executionInfo": {
     "elapsed": 5,
     "status": "ok",
     "timestamp": 1739373653179,
     "user": {
      "displayName": "Rene Goosen",
      "userId": "07965523543194323959"
     },
     "user_tz": 0
    },
    "id": "Yof9-UK4hhSJ",
    "outputId": "75dfda7f-6910-4bcd-cc47-2b31edd0480b"
   },
   "outputs": [
    {
     "name": "stdout",
     "output_type": "stream",
     "text": [
      "wildfire risk dataset generated!\n",
      "     Green %  Brown %  Temperature (°C)  Humidity (%)  Wind Speed (km/h)  \\\n",
      "0          1       99         29.338950     87.628209          18.740866   \n",
      "1          1       99         23.027573     73.073982          10.214798   \n",
      "2          1       99         22.730863     50.759592          29.827178   \n",
      "3          1       99         32.148322     76.029072          34.532198   \n",
      "4          1       99         26.906977     14.512016          16.664567   \n",
      "..       ...      ...               ...           ...                ...   \n",
      "495      100        0         36.961882     85.183415          18.058085   \n",
      "496      100        0         39.263946     25.110454          26.582721   \n",
      "497      100        0         31.520682     69.268124          21.871579   \n",
      "498      100        0         36.534188     59.981279          17.935130   \n",
      "499      100        0         24.821457     72.855496          33.402217   \n",
      "\n",
      "     Risk Score Risk Level  \n",
      "0      0.586356          🟠  \n",
      "1      0.515368          🟠  \n",
      "2      0.612472          🟠  \n",
      "3      0.688385          🔴  \n",
      "4      0.697473          🔴  \n",
      "..          ...        ...  \n",
      "495    0.284770          🟢  \n",
      "496    0.456897          🟠  \n",
      "497    0.262202          🟢  \n",
      "498    0.329691          🟢  \n",
      "499    0.207581          🟢  \n",
      "\n",
      "[500 rows x 7 columns]\n"
     ]
    }
   ],
   "source": [
    "# Function to calculate the risk score\n",
    "def calculate_risk_score(green_percent, temp, humidity, wind_speed):\n",
    "    brown_percent = 100 - green_percent  # Brown = Inverse of green\n",
    "\n",
    "    # Green/Brown Impact: Larger brown area increases risk\n",
    "    brown_score = brown_percent / 100\n",
    "\n",
    "    # Temperature: Scale temperature to range [0, 1], assuming range 20°C to 45°C\n",
    "    temp_score = (temp - 20) / (45 - 20)\n",
    "\n",
    "    # Humidity: Low humidity increases risk, so we scale it to [0, 1] in reverse\n",
    "    humidity_score = (100 - humidity) / 100\n",
    "\n",
    "    # Wind Speed: Strong winds increase risk, so we scale to [0, 1] in normal order\n",
    "    wind_score = wind_speed / 35\n",
    "\n",
    "    # Calculate the final risk score by combining factors\n",
    "    # You can adjust these weights to tune the sensitivity of each factor\n",
    "    final_score = (0.4 * brown_score) + (0.3 * temp_score) + (0.2 * humidity_score) + (0.1 * wind_score)\n",
    "\n",
    "    return final_score\n",
    "\n",
    "# Function to classify risk based on the final score\n",
    "def classify_risk(score):\n",
    "    if score <= 0.33:\n",
    "        return \"🟢\"\n",
    "    elif 0.34 <= score <= 0.66:\n",
    "        return \"🟠\"\n",
    "    else:\n",
    "        return \"🔴\"\n",
    "\n",
    "# Generate data with varying conditions\n",
    "data = []\n",
    "\n",
    "for green_percent in range(1, 101):  # 1% to 100% Green Coverage\n",
    "    for i in range(5):  # Generate 5 variations per green percentage\n",
    "        temp = np.random.uniform(20, 45)  # Random temperature between 20-45°C\n",
    "        humidity = np.random.uniform(10, 90)  # Random humidity between 10-90%\n",
    "        wind_speed = np.random.uniform(5, 35)  # Random wind speed between 5-35 km/h\n",
    "\n",
    "        # Calculate the risk score based on the factors\n",
    "        risk_score = calculate_risk_score(green_percent, temp, humidity, wind_speed)\n",
    "\n",
    "        # Classify the risk based on the final score\n",
    "        risk_label = classify_risk(risk_score)\n",
    "\n",
    "        data.append([green_percent, 100 - green_percent, temp, humidity, wind_speed, risk_score, risk_label])\n",
    "\n",
    "# Create DataFrame\n",
    "df = pd.DataFrame(data, columns=[\"Green %\", \"Brown %\", \"Temperature (°C)\", \"Humidity (%)\", \"Wind Speed (km/h)\", \"Risk Score\", \"Risk Level\"])\n",
    "\n",
    "# Save as CSV\n",
    "csv_path = \"/content/dataset/large_dataset/risk_labels.csv\"\n",
    "df.to_csv(csv_path, index=False)\n",
    "\n",
    "# Display a sample of the dataset\n",
    "print(\"wildfire risk dataset generated!\")\n",
    "print(df)"
   ]
  },
  {
   "cell_type": "code",
   "execution_count": 22,
   "metadata": {
    "colab": {
     "base_uri": "https://localhost:8080/"
    },
    "executionInfo": {
     "elapsed": 241,
     "status": "ok",
     "timestamp": 1739373659261,
     "user": {
      "displayName": "Rene Goosen",
      "userId": "07965523543194323959"
     },
     "user_tz": 0
    },
    "id": "pxPEKl_9kJXl",
    "outputId": "7b7bdc2d-c438-4c9e-f586-a6aa931aa2bc"
   },
   "outputs": [
    {
     "name": "stdout",
     "output_type": "stream",
     "text": [
      "[[  1.          99.          29.33895003  87.62820866  18.7408664 ]\n",
      " [  1.          99.          23.02757279  73.07398198  10.2147983 ]\n",
      " [  1.          99.          22.73086283  50.7595919   29.82717766]\n",
      " ...\n",
      " [100.           0.          31.52068153  69.26812392  21.87157852]\n",
      " [100.           0.          36.53418802  59.98127899  17.93513042]\n",
      " [100.           0.          24.82145684  72.85549637  33.40221695]]\n"
     ]
    },
    {
     "name": "stderr",
     "output_type": "stream",
     "text": [
      "<ipython-input-22-58796cfe936c>:4: FutureWarning: Downcasting behavior in `replace` is deprecated and will be removed in a future version. To retain the old behavior, explicitly call `result.infer_objects(copy=False)`. To opt-in to the future behavior, set `pd.set_option('future.no_silent_downcasting', True)`\n",
      "  df['Risk Level'] = df['Risk Level'].replace('🔴', 2)\n"
     ]
    }
   ],
   "source": [
    "# Change last column from strings to integers\n",
    "df['Risk Level'] = df['Risk Level'].replace('🟢', 0)\n",
    "df['Risk Level'] = df['Risk Level'].replace('🟠', 1)\n",
    "df['Risk Level'] = df['Risk Level'].replace('🔴', 2)\n",
    "\n",
    "# X is all columns except the species\n",
    "X = df.drop(labels = ['Risk Level', 'Risk Score'],axis=1).values\n",
    "y = df['Risk Level'].values\n",
    "print(X)"
   ]
  },
  {
   "cell_type": "code",
   "execution_count": 23,
   "metadata": {
    "executionInfo": {
     "elapsed": 236,
     "status": "ok",
     "timestamp": 1739373678162,
     "user": {
      "displayName": "Rene Goosen",
      "userId": "07965523543194323959"
     },
     "user_tz": 0
    },
    "id": "0LN4WRy4kJdi"
   },
   "outputs": [],
   "source": [
    "# Train test split\n",
    "from sklearn.model_selection import train_test_split\n",
    "X_train, X_test, y_train, y_test = train_test_split(X, y, test_size = 0.2, random_state=41)"
   ]
  },
  {
   "cell_type": "code",
   "execution_count": 24,
   "metadata": {
    "colab": {
     "base_uri": "https://localhost:8080/"
    },
    "executionInfo": {
     "elapsed": 191,
     "status": "ok",
     "timestamp": 1739373678989,
     "user": {
      "displayName": "Rene Goosen",
      "userId": "07965523543194323959"
     },
     "user_tz": 0
    },
    "id": "CE8eRurMkJi3",
    "outputId": "a16ce34d-0d88-440a-a027-6f10f43e03b5"
   },
   "outputs": [
    {
     "data": {
      "text/plain": [
       "tensor([[32.0000, 68.0000, 30.9834, 42.4878,  9.8238],\n",
       "        [29.0000, 71.0000, 24.5080, 74.3848,  6.4310],\n",
       "        [23.0000, 77.0000, 26.9466, 44.2831,  5.4274],\n",
       "        ...,\n",
       "        [80.0000, 20.0000, 28.9339, 71.5363, 34.4064],\n",
       "        [84.0000, 16.0000, 30.4288, 69.2631, 16.8947],\n",
       "        [90.0000, 10.0000, 35.5139, 49.3162, 16.6162]])"
      ]
     },
     "execution_count": 24,
     "metadata": {},
     "output_type": "execute_result"
    }
   ],
   "source": [
    "# Convert to tensors\n",
    "# Need to calculate gradients so set to float tensor\n",
    "X_train = torch.FloatTensor(X_train)\n",
    "X_test = torch.FloatTensor(X_test)\n",
    "X_train"
   ]
  },
  {
   "cell_type": "code",
   "execution_count": 25,
   "metadata": {
    "executionInfo": {
     "elapsed": 217,
     "status": "ok",
     "timestamp": 1739373681128,
     "user": {
      "displayName": "Rene Goosen",
      "userId": "07965523543194323959"
     },
     "user_tz": 0
    },
    "id": "dQXr8yH7kJnT"
   },
   "outputs": [],
   "source": [
    "# Convert labels to tensor\n",
    "y_train = torch.LongTensor(y_train)\n",
    "y_test = torch.LongTensor(y_test)"
   ]
  },
  {
   "cell_type": "code",
   "execution_count": 26,
   "metadata": {
    "colab": {
     "base_uri": "https://localhost:8080/"
    },
    "executionInfo": {
     "elapsed": 3,
     "status": "ok",
     "timestamp": 1739373681878,
     "user": {
      "displayName": "Rene Goosen",
      "userId": "07965523543194323959"
     },
     "user_tz": 0
    },
    "id": "keVbqRQJkJqS",
    "outputId": "146bf758-1706-4f7b-92fb-e97cdd11682a"
   },
   "outputs": [
    {
     "data": {
      "text/plain": [
       "[tensor([[91.0000,  9.0000, 26.5758, 12.3305, 12.0327],\n",
       "         [60.0000, 40.0000, 28.5547, 34.5628, 26.4584],\n",
       "         [50.0000, 50.0000, 31.3831, 87.3697, 13.7924],\n",
       "         [55.0000, 45.0000, 28.9308, 51.2642, 17.2346],\n",
       "         [63.0000, 37.0000, 23.4020, 39.9535, 21.8761],\n",
       "         [10.0000, 90.0000, 28.4930, 17.0946, 34.5135],\n",
       "         [79.0000, 21.0000, 43.9103, 11.4413, 26.4728],\n",
       "         [30.0000, 70.0000, 37.2726, 42.9248, 14.0880],\n",
       "         [ 2.0000, 98.0000, 43.8398, 15.9190, 31.8608],\n",
       "         [64.0000, 36.0000, 28.9254, 67.0109, 27.2213],\n",
       "         [95.0000,  5.0000, 40.7656, 31.9701, 20.3059],\n",
       "         [17.0000, 83.0000, 40.7009, 10.1983, 33.6813],\n",
       "         [33.0000, 67.0000, 42.4257, 19.8485,  8.6026],\n",
       "         [38.0000, 62.0000, 39.1377, 12.8130, 18.8559],\n",
       "         [14.0000, 86.0000, 44.4832, 27.8683, 27.3018]]),\n",
       " tensor([0, 1, 1, 1, 1, 2, 1, 1, 2, 1, 1, 2, 2, 2, 2])]"
      ]
     },
     "execution_count": 26,
     "metadata": {},
     "output_type": "execute_result"
    }
   ],
   "source": [
    "from torch.utils.data import TensorDataset, DataLoader\n",
    "train_ds = TensorDataset(X_train, y_train)\n",
    "batch_size = 15\n",
    "train_dl = DataLoader(train_ds, batch_size=batch_size, shuffle=True)\n",
    "next(iter(train_dl))"
   ]
  },
  {
   "cell_type": "code",
   "execution_count": 27,
   "metadata": {
    "colab": {
     "base_uri": "https://localhost:8080/",
     "height": 829
    },
    "executionInfo": {
     "elapsed": 47943,
     "status": "ok",
     "timestamp": 1739373731536,
     "user": {
      "displayName": "Rene Goosen",
      "userId": "07965523543194323959"
     },
     "user_tz": 0
    },
    "id": "YPA1NnwksHQ6",
    "outputId": "f93167f7-1646-42a4-8fb1-c63a8ffa40a1"
   },
   "outputs": [
    {
     "name": "stdout",
     "output_type": "stream",
     "text": [
      "Epoch 0: Loss = 1.2416\n",
      "Epoch 50: Loss = 0.5562\n",
      "Epoch 100: Loss = 0.3604\n",
      "Epoch 150: Loss = 0.2405\n",
      "Epoch 200: Loss = 0.1625\n",
      "Epoch 250: Loss = 0.1364\n",
      "Epoch 300: Loss = 0.1127\n",
      "Epoch 350: Loss = 0.1227\n",
      "Epoch 400: Loss = 0.1058\n",
      "Epoch 450: Loss = 0.0858\n",
      "Epoch 500: Loss = 0.0820\n",
      "Epoch 550: Loss = 0.0838\n",
      "Epoch 600: Loss = 0.0939\n",
      "Epoch 650: Loss = 0.0855\n",
      "Epoch 700: Loss = 0.0749\n",
      "Epoch 750: Loss = 0.0787\n",
      "Epoch 800: Loss = 0.0839\n",
      "Epoch 850: Loss = 0.0730\n",
      "Epoch 900: Loss = 0.0760\n",
      "Epoch 950: Loss = 0.0678\n"
     ]
    },
    {
     "data": {
      "image/png": "[encoded data removed]",
      "text/plain": [
       "<Figure size 640x480 with 1 Axes>"
      ]
     },
     "metadata": {},
     "output_type": "display_data"
    }
   ],
   "source": [
    "import torch\n",
    "import torch.nn as nn\n",
    "import torch.optim as optim\n",
    "import matplotlib.pyplot as plt\n",
    "\n",
    "# Define the Neural Network\n",
    "class DNN(nn.Module):\n",
    "    def __init__(self):\n",
    "        super().__init__()\n",
    "        self.linear1 = nn.Linear(5, 8)\n",
    "        self.act1 = nn.ReLU()\n",
    "\n",
    "        self.linear2 = nn.Linear(8, 6)\n",
    "        self.act2 = nn.ReLU()\n",
    "\n",
    "        self.linear3 = nn.Linear(6, 4)\n",
    "        self.act3 = nn.ReLU()\n",
    "\n",
    "        self.linear4 = nn.Linear(4, 3)\n",
    "\n",
    "    def forward(self, x):\n",
    "        x = self.linear1(x)\n",
    "        x = self.act1(x)\n",
    "\n",
    "        x = self.linear2(x)\n",
    "        x = self.act2(x)\n",
    "\n",
    "        x = self.linear3(x)\n",
    "        x = self.act3(x)\n",
    "\n",
    "        x = self.linear4(x)  # Output raw logits\n",
    "        return x\n",
    "\n",
    "# Initialize Model, Loss Function, and Optimizer\n",
    "lr = 0.001\n",
    "model = DNN()\n",
    "loss_fn = nn.CrossEntropyLoss()  # CrossEntropy handles softmax internally\n",
    "optimizer = optim.Adam(model.parameters(), lr=lr)  # Faster convergence\n",
    "\n",
    "# Training Function\n",
    "\n",
    "losses = []\n",
    "epochs_lst = []\n",
    "\n",
    "def fit(num_epochs, model, loss_fn, optimizer, train_dl):\n",
    "    for epoch in range(num_epochs):\n",
    "        epoch_loss = 0.0\n",
    "        for xb, yb in train_dl:\n",
    "            preds = model(xb)  # Forward pass\n",
    "            loss = loss_fn(preds, yb)  # Compute loss\n",
    "\n",
    "            optimizer.zero_grad()  # Clear gradients\n",
    "            loss.backward()  # Backpropagation\n",
    "            optimizer.step()  # Update weights\n",
    "\n",
    "            epoch_loss += loss.item()  # Track loss\n",
    "\n",
    "        # Logging every 50 epochs\n",
    "        if epoch % 50 == 0:\n",
    "            avg_loss = epoch_loss / len(train_dl)\n",
    "            print(f\"Epoch {epoch}: Loss = {avg_loss:.4f}\")\n",
    "            losses.append(avg_loss)\n",
    "            epochs_lst.append(epoch)\n",
    "\n",
    "# Train Model\n",
    "fit(1000, model, loss_fn, optimizer, train_dl)\n",
    "\n",
    "# Plot Loss Curve\n",
    "def drawGraph(losses, epochs_lst):\n",
    "    plt.plot(epochs_lst, losses, marker='o', linestyle='-')\n",
    "    plt.xlabel(\"Epochs\")\n",
    "    plt.ylabel(\"Loss\")\n",
    "    plt.title(\"Training Loss Curve\")\n",
    "    plt.show()\n",
    "\n",
    "drawGraph(losses, epochs_lst)\n"
   ]
  },
  {
   "cell_type": "code",
   "execution_count": 28,
   "metadata": {
    "colab": {
     "base_uri": "https://localhost:8080/"
    },
    "executionInfo": {
     "elapsed": 8,
     "status": "ok",
     "timestamp": 1739373731536,
     "user": {
      "displayName": "Rene Goosen",
      "userId": "07965523543194323959"
     },
     "user_tz": 0
    },
    "id": "Co_MXHGAtj-1",
    "outputId": "904a4157-31e9-45ac-f342-e56d3e606dca"
   },
   "outputs": [
    {
     "name": "stdout",
     "output_type": "stream",
     "text": [
      "Model Accuracy: 99.00%\n",
      "    Green %  Brown %  Temperature (°C)  Humidity (%)  Wind Speed (km/h)  \\\n",
      "83     34.0     66.0         22.476944     21.959318          22.784052   \n",
      "53     50.0     50.0         24.873283     41.799896          31.128017   \n",
      "70      1.0     99.0         29.338949     87.628212          18.740866   \n",
      "45     78.0     22.0         20.573017     58.944965          29.481781   \n",
      "44     55.0     45.0         42.731728     26.082029          27.846771   \n",
      "39     54.0     46.0         33.175297     72.497696          30.103466   \n",
      "22     62.0     38.0         25.987194     36.772472          13.067519   \n",
      "80     89.0     11.0         43.164845     63.423912          10.930847   \n",
      "10     73.0     27.0         24.062576     45.694153          10.279044   \n",
      "0      40.0     60.0         34.549492     66.575607          10.368484   \n",
      "18      6.0     94.0         24.978689     50.889385           8.694849   \n",
      "30      5.0     95.0         44.920532     31.727385          20.938707   \n",
      "73     28.0     72.0         35.490120     30.891987          26.662548   \n",
      "33     81.0     19.0         40.526733     28.039322          25.030741   \n",
      "90     87.0     13.0         44.518162     82.620804          16.313501   \n",
      "4      68.0     32.0         31.425703     42.042999          26.222242   \n",
      "76     60.0     40.0         24.335522     38.008213          32.310955   \n",
      "77     98.0      2.0         27.656605     82.543091          34.069275   \n",
      "12     29.0     71.0         36.701008     74.479683          34.943027   \n",
      "31     61.0     39.0         29.466513     31.590876          30.221304   \n",
      "\n",
      "    Actual Label  Predicted Label  \n",
      "83             1                1  \n",
      "53             1                1  \n",
      "70             1                1  \n",
      "45             0                0  \n",
      "44             2                2  \n",
      "39             1                1  \n",
      "22             1                1  \n",
      "80             1                1  \n",
      "10             0                0  \n",
      "0              1                1  \n",
      "18             1                1  \n",
      "30             2                2  \n",
      "73             2                2  \n",
      "33             1                1  \n",
      "90             1                1  \n",
      "4              1                1  \n",
      "76             1                1  \n",
      "77             0                0  \n",
      "12             1                1  \n",
      "31             1                1  \n"
     ]
    }
   ],
   "source": [
    "from sklearn.metrics import accuracy_score\n",
    "import pandas as pd\n",
    "\n",
    "# Put model in evaluation mode (disables dropout, batch norm updates)\n",
    "model.eval()\n",
    "\n",
    "test_preds = model(X_test)  # Get raw logits\n",
    "predicted_labels = torch.argmax(test_preds, axis=1)  # Convert logits to class indices\n",
    "\n",
    "# Convert tensors to numpy arrays for accuracy calculation\n",
    "actual_labels = y_test.numpy()\n",
    "predicted_labels = predicted_labels.numpy()\n",
    "\n",
    "# Calculate Accuracy\n",
    "accuracy = accuracy_score(actual_labels, predicted_labels) * 100\n",
    "print(f\"Model Accuracy: {accuracy:.2f}%\")\n",
    "\n",
    "# Create a DataFrame to compare Actual vs. Predicted Labels\n",
    "results_df = pd.DataFrame({\n",
    "    \"Green %\": X_test[:, 0].numpy(),  # Assuming column 0 is Green %\n",
    "    \"Brown %\": X_test[:, 1].numpy(),\n",
    "    \"Temperature (°C)\": X_test[:, 2].numpy(),\n",
    "    \"Humidity (%)\": X_test[:, 3].numpy(),\n",
    "    \"Wind Speed (km/h)\": X_test[:, 4].numpy(),\n",
    "    \"Actual Label\": actual_labels,\n",
    "    \"Predicted Label\": predicted_labels\n",
    "})\n",
    "\n",
    "# Print 20 random rows from the results DataFrame\n",
    "print(results_df.sample(20, random_state=42))  # Random selection for consistency\n"
   ]
  }
 ],
 "metadata": {
  "colab": {
   "authorship_tag": "ABX9TyP4GcfD4Dy+UzrCh2NOAJGN",
   "provenance": []
  },
  "kernelspec": {
   "display_name": "Python [conda env:base] *",
   "language": "python",
   "name": "conda-base-py"
  },
  "language_info": {
   "codemirror_mode": {
    "name": "ipython",
    "version": 3
   },
   "file_extension": ".py",
   "mimetype": "text/x-python",
   "name": "python",
   "nbconvert_exporter": "python",
   "pygments_lexer": "ipython3",
   "version": "3.12.4"
  }
 },
 "nbformat": 4,
 "nbformat_minor": 4
}
